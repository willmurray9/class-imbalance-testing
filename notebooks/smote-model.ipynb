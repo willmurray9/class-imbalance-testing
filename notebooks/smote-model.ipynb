{
  "cells": [
    {
      "cell_type": "markdown",
      "metadata": {},
      "source": [
        "# SMOTE XGBoost Model\n"
      ]
    },
    {
      "cell_type": "markdown",
      "metadata": {},
      "source": [
        "# Load Packages\n"
      ]
    },
    {
      "cell_type": "code",
      "execution_count": 1,
      "metadata": {},
      "outputs": [
        {
          "ename": "ModuleNotFoundError",
          "evalue": "No module named 'imblearn'",
          "output_type": "error",
          "traceback": [
            "\u001b[31m---------------------------------------------------------------------------\u001b[39m",
            "\u001b[31mModuleNotFoundError\u001b[39m                       Traceback (most recent call last)",
            "\u001b[36mCell\u001b[39m\u001b[36m \u001b[39m\u001b[32mIn[1]\u001b[39m\u001b[32m, line 8\u001b[39m\n\u001b[32m      6\u001b[39m \u001b[38;5;28;01mfrom\u001b[39;00m\u001b[38;5;250m \u001b[39m\u001b[34;01msklearn\u001b[39;00m\u001b[34;01m.\u001b[39;00m\u001b[34;01mmodel_selection\u001b[39;00m\u001b[38;5;250m \u001b[39m\u001b[38;5;28;01mimport\u001b[39;00m train_test_split\n\u001b[32m      7\u001b[39m \u001b[38;5;28;01mfrom\u001b[39;00m\u001b[38;5;250m \u001b[39m\u001b[34;01msklearn\u001b[39;00m\u001b[34;01m.\u001b[39;00m\u001b[34;01mmetrics\u001b[39;00m\u001b[38;5;250m \u001b[39m\u001b[38;5;28;01mimport\u001b[39;00m classification_report, confusion_matrix, accuracy_score, precision_score, recall_score, f1_score, roc_auc_score, roc_curve, average_precision_score, precision_recall_curve\n\u001b[32m----> \u001b[39m\u001b[32m8\u001b[39m \u001b[38;5;28;01mfrom\u001b[39;00m\u001b[38;5;250m \u001b[39m\u001b[34;01mimblearn\u001b[39;00m\u001b[34;01m.\u001b[39;00m\u001b[34;01mover_sampling\u001b[39;00m\u001b[38;5;250m \u001b[39m\u001b[38;5;28;01mimport\u001b[39;00m SMOTE\n\u001b[32m      9\u001b[39m \u001b[38;5;28;01mimport\u001b[39;00m\u001b[38;5;250m \u001b[39m\u001b[34;01mxgboost\u001b[39;00m\u001b[38;5;250m \u001b[39m\u001b[38;5;28;01mas\u001b[39;00m\u001b[38;5;250m \u001b[39m\u001b[34;01mxgb\u001b[39;00m\n\u001b[32m     11\u001b[39m plt.style.use(\u001b[33m'\u001b[39m\u001b[33mseaborn-v0_8\u001b[39m\u001b[33m'\u001b[39m)\n",
            "\u001b[31mModuleNotFoundError\u001b[39m: No module named 'imblearn'"
          ]
        }
      ],
      "source": [
        "import pandas as pd\n",
        "import numpy as np\n",
        "import matplotlib.pyplot as plt\n",
        "import seaborn as sns\n",
        "import warnings\n",
        "from sklearn.model_selection import train_test_split\n",
        "from sklearn.metrics import classification_report, confusion_matrix, accuracy_score, precision_score, recall_score, f1_score, roc_auc_score, roc_curve, average_precision_score, precision_recall_curve\n",
        "from imblearn.over_sampling import SMOTE\n",
        "import xgboost as xgb\n",
        "\n",
        "plt.style.use('seaborn-v0_8')\n",
        "sns.set_palette(\"husl\")\n",
        "warnings.filterwarnings('ignore')\n",
        "\n",
        "pd.set_option('display.max_columns', None)\n",
        "pd.set_option('display.width', None)\n",
        "pd.set_option('display.max_colwidth', None)\n",
        "\n",
        "print(\"All packages loaded successfully!\")\n"
      ]
    },
    {
      "cell_type": "markdown",
      "metadata": {},
      "source": [
        "# Load Data\n"
      ]
    },
    {
      "cell_type": "code",
      "execution_count": null,
      "metadata": {},
      "outputs": [],
      "source": [
        "df = pd.read_csv('../data/stroke_data_prepared.csv')\n",
        "print(f\"Dataset shape: {df.shape}\")\n",
        "print(f\"Features: {df.columns.tolist()}\")\n",
        "df.head()\n"
      ]
    },
    {
      "cell_type": "code",
      "execution_count": null,
      "metadata": {},
      "outputs": [],
      "source": [
        "print(\"Target variable (stroke) distribution:\")\n",
        "print(df['stroke'].value_counts())\n",
        "print(f\"\\nClass distribution:\")\n",
        "print(df['stroke'].value_counts(normalize=True))\n"
      ]
    },
    {
      "cell_type": "markdown",
      "metadata": {},
      "source": [
        "# Data Preprocessing\n"
      ]
    },
    {
      "cell_type": "code",
      "execution_count": null,
      "metadata": {},
      "outputs": [],
      "source": [
        "X = df.drop(['stroke', 'id'], axis=1)\n",
        "y = df['stroke']\n",
        "\n",
        "print(f\"Feature matrix shape: {X.shape}\")\n",
        "print(f\"Target vector shape: {y.shape}\")\n",
        "print(f\"Features: {list(X.columns)}\")\n"
      ]
    },
    {
      "cell_type": "code",
      "execution_count": null,
      "metadata": {},
      "outputs": [],
      "source": [
        "X_train, X_test, y_train, y_test = train_test_split(\n",
        "    X, y, \n",
        "    test_size=0.2, \n",
        "    random_state=42, \n",
        "    stratify=y\n",
        ")\n",
        "\n",
        "print(f\"Training set shape: {X_train.shape}\")\n",
        "print(f\"Testing set shape: {X_test.shape}\")\n",
        "print(f\"Training target distribution (BEFORE SMOTE):\")\n",
        "print(y_train.value_counts(normalize=True))\n",
        "print(f\"Testing target distribution:\")\n",
        "print(y_test.value_counts(normalize=True))\n"
      ]
    },
    {
      "cell_type": "markdown",
      "metadata": {},
      "source": [
        "# Apply SMOTE to Training Data\n"
      ]
    },
    {
      "cell_type": "code",
      "execution_count": null,
      "metadata": {},
      "outputs": [],
      "source": [
        "print(\"Applying SMOTE to training data...\")\n",
        "print(\"=\"*60)\n",
        "print(\"IMPORTANT: SMOTE is applied ONLY to training data!\")\n",
        "print(\"Test data remains unchanged to ensure valid evaluation.\")\n",
        "print(\"=\"*60)\n",
        "\n",
        "smote = SMOTE(random_state=42, k_neighbors=5)\n",
        "\n",
        "print(f\"\\nOriginal training set shape: {X_train.shape}\")\n",
        "print(f\"Original class distribution:\")\n",
        "print(y_train.value_counts())\n",
        "\n",
        "X_train_smote, y_train_smote = smote.fit_resample(X_train, y_train)\n",
        "\n",
        "print(f\"\\nSMOTE-resampled training set shape: {X_train_smote.shape}\")\n",
        "print(f\"New class distribution:\")\n",
        "print(pd.Series(y_train_smote).value_counts())\n",
        "print(f\"\\nClass balance achieved: {pd.Series(y_train_smote).value_counts(normalize=True)}\")\n"
      ]
    },
    {
      "cell_type": "code",
      "execution_count": null,
      "metadata": {},
      "outputs": [],
      "source": [
        "fig, axes = plt.subplots(1, 2, figsize=(14, 5))\n",
        "\n",
        "# Before SMOTE\n",
        "y_train_counts = y_train.value_counts()\n",
        "axes[0].bar(['No Stroke', 'Stroke'], y_train_counts.values, color=['skyblue', 'salmon'])\n",
        "axes[0].set_title('Training Data Distribution\\n(Before SMOTE)')\n",
        "axes[0].set_ylabel('Count')\n",
        "axes[0].set_ylim([0, max(y_train_counts.values) * 1.1])\n",
        "for i, v in enumerate(y_train_counts.values):\n",
        "    axes[0].text(i, v + 50, str(v), ha='center', fontweight='bold')\n",
        "\n",
        "# After SMOTE\n",
        "y_train_smote_counts = pd.Series(y_train_smote).value_counts()\n",
        "axes[1].bar(['No Stroke', 'Stroke'], y_train_smote_counts.values, color=['skyblue', 'salmon'])\n",
        "axes[1].set_title('Training Data Distribution\\n(After SMOTE)')\n",
        "axes[1].set_ylabel('Count')\n",
        "axes[1].set_ylim([0, max(y_train_smote_counts.values) * 1.1])\n",
        "for i, v in enumerate(y_train_smote_counts.values):\n",
        "    axes[1].text(i, v + 50, str(v), ha='center', fontweight='bold')\n",
        "\n",
        "plt.tight_layout()\n",
        "plt.show()\n",
        "\n",
        "print(f\"Synthetic samples generated: {len(X_train_smote) - len(X_train)}\")\n"
      ]
    },
    {
      "cell_type": "markdown",
      "metadata": {},
      "source": [
        "# SMOTE XGBoost Model\n"
      ]
    },
    {
      "cell_type": "code",
      "execution_count": null,
      "metadata": {},
      "outputs": [],
      "source": [
        "smote_model = xgb.XGBClassifier(\n",
        "    tree_method='hist',  \n",
        "    eval_metric='aucpr', \n",
        "    random_state=42\n",
        ")\n",
        "\n",
        "print(\"SMOTE XGBoost model created with default settings\")\n",
        "print(\"Key settings:\")\n",
        "print(f\"  - Tree method: {smote_model.tree_method}\")\n",
        "print(f\"  - Eval metric: {smote_model.eval_metric}\")\n",
        "print(f\"  - Objective: {smote_model.objective}\")\n",
        "print(f\"  - Training on SMOTE-resampled data: {X_train_smote.shape}\")\n",
        "print(\"\\nFull model parameters:\")\n",
        "print(smote_model.get_params())\n"
      ]
    },
    {
      "cell_type": "code",
      "execution_count": null,
      "metadata": {},
      "outputs": [],
      "source": [
        "print(\"Training SMOTE XGBoost model on resampled training data...\")\n",
        "smote_model.fit(X_train_smote, y_train_smote)\n",
        "print(\"Model training completed!\")\n"
      ]
    },
    {
      "cell_type": "markdown",
      "metadata": {},
      "source": [
        "# Model Evaluation\n"
      ]
    },
    {
      "cell_type": "code",
      "execution_count": null,
      "metadata": {},
      "outputs": [],
      "source": [
        "y_pred = smote_model.predict(X_test)\n",
        "y_pred_proba = smote_model.predict_proba(X_test)[:, 1]\n",
        "\n",
        "print(\"Predictions completed!\")\n"
      ]
    },
    {
      "cell_type": "code",
      "execution_count": null,
      "metadata": {},
      "outputs": [],
      "source": [
        "accuracy = accuracy_score(y_test, y_pred)\n",
        "precision = precision_score(y_test, y_pred)\n",
        "recall = recall_score(y_test, y_pred)\n",
        "f1 = f1_score(y_test, y_pred)\n",
        "roc_auc = roc_auc_score(y_test, y_pred_proba)\n",
        "auprc = average_precision_score(y_test, y_pred_proba)\n",
        "\n",
        "print(\"SMOTE Model Performance Metrics:\")\n",
        "print(\"=\"*45)\n",
        "print(f\"AUPRC (PRIMARY METRIC): {auprc:.4f}\")\n",
        "print(\"=\"*45)\n",
        "print(f\"Accuracy:  {accuracy:.4f}\")\n",
        "print(f\"Precision: {precision:.4f}\")\n",
        "print(f\"Recall:    {recall:.4f}\")\n",
        "print(f\"F1-Score:  {f1:.4f}\")\n",
        "print(f\"ROC-AUC:   {roc_auc:.4f}\")\n"
      ]
    },
    {
      "cell_type": "code",
      "execution_count": null,
      "metadata": {},
      "outputs": [],
      "source": [
        "print(\"Classification Report:\")\n",
        "print(classification_report(y_test, y_pred))\n"
      ]
    },
    {
      "cell_type": "code",
      "execution_count": null,
      "metadata": {},
      "outputs": [],
      "source": [
        "plt.figure(figsize=(8, 6))\n",
        "cm = confusion_matrix(y_test, y_pred)\n",
        "sns.heatmap(cm, annot=True, fmt='d', cmap='Blues', \n",
        "            xticklabels=['No Stroke', 'Stroke'], \n",
        "            yticklabels=['No Stroke', 'Stroke'])\n",
        "plt.title('Confusion Matrix - SMOTE XGBoost Model')\n",
        "plt.ylabel('True Label')\n",
        "plt.xlabel('Predicted Label')\n",
        "plt.show()\n"
      ]
    },
    {
      "cell_type": "code",
      "execution_count": null,
      "metadata": {},
      "outputs": [],
      "source": [
        "plt.figure(figsize=(8, 6))\n",
        "fpr, tpr, _ = roc_curve(y_test, y_pred_proba)\n",
        "plt.plot(fpr, tpr, color='darkorange', lw=2, label=f'ROC curve (AUC = {roc_auc:.4f})')\n",
        "plt.plot([0, 1], [0, 1], color='navy', lw=2, linestyle='--', label='Random')\n",
        "plt.xlim([0.0, 1.0])\n",
        "plt.ylim([0.0, 1.05])\n",
        "plt.xlabel('False Positive Rate')\n",
        "plt.ylabel('True Positive Rate')\n",
        "plt.title('ROC Curve - SMOTE XGBoost Model')\n",
        "plt.legend(loc=\"lower right\")\n",
        "plt.show()\n"
      ]
    },
    {
      "cell_type": "code",
      "execution_count": null,
      "metadata": {},
      "outputs": [],
      "source": [
        "plt.figure(figsize=(8, 6))\n",
        "precision_curve, recall_curve, _ = precision_recall_curve(y_test, y_pred_proba)\n",
        "plt.plot(recall_curve, precision_curve, color='darkorange', lw=2, \n",
        "         label=f'PR curve (AUPRC = {auprc:.4f})')\n",
        "\n",
        "baseline = y_test.mean()\n",
        "plt.axhline(y=baseline, color='navy', lw=2, linestyle='--', \n",
        "           label=f'Baseline (AUPRC = {baseline:.4f})')\n",
        "\n",
        "plt.xlim([0.0, 1.0])\n",
        "plt.ylim([0.0, 1.05])\n",
        "plt.xlabel('Recall')\n",
        "plt.ylabel('Precision')\n",
        "plt.title('Precision-Recall Curve - SMOTE XGBoost Model')\n",
        "plt.legend(loc=\"lower left\")\n",
        "plt.show()\n"
      ]
    },
    {
      "cell_type": "code",
      "execution_count": null,
      "metadata": {},
      "outputs": [],
      "source": [
        "plt.figure(figsize=(10, 8))\n",
        "feature_importance = smote_model.feature_importances_\n",
        "feature_names = X.columns\n",
        "importance_df = pd.DataFrame({\n",
        "    'feature': feature_names,\n",
        "    'importance': feature_importance\n",
        "}).sort_values('importance', ascending=False)\n",
        "\n",
        "sns.barplot(data=importance_df, x='importance', y='feature')\n",
        "plt.title('Feature Importance - SMOTE XGBoost Model')\n",
        "plt.xlabel('Importance')\n",
        "plt.tight_layout()\n",
        "plt.show()\n",
        "\n",
        "print(\"Top 5 Most Important Features:\")\n",
        "print(importance_df.head())\n"
      ]
    },
    {
      "cell_type": "markdown",
      "metadata": {},
      "source": [
        "# Exploring Different SMOTE Sampling Strategies\n"
      ]
    },
    {
      "cell_type": "code",
      "execution_count": null,
      "metadata": {},
      "outputs": [],
      "source": [
        "print(\"Testing different SMOTE sampling strategies...\")\n",
        "print(\"=\"*60)\n",
        "\n",
        "sampling_strategies = {\n",
        "    'Full Balance (1:1)': 1.0,\n",
        "    'Moderate Balance (1:2)': 0.5,\n",
        "    'Light Balance (1:3)': 0.33,\n",
        "    'Minimal Balance (1:5)': 0.2\n",
        "}\n",
        "\n",
        "results = []\n",
        "\n",
        "for strategy_name, strategy_ratio in sampling_strategies.items():\n",
        "    print(f\"\\nTesting: {strategy_name} (ratio={strategy_ratio})\")\n",
        "    \n",
        "    smote_temp = SMOTE(random_state=42, sampling_strategy=strategy_ratio, k_neighbors=5)\n",
        "    X_train_temp, y_train_temp = smote_temp.fit_resample(X_train, y_train)\n",
        "    \n",
        "    model_temp = xgb.XGBClassifier(\n",
        "        tree_method='hist',\n",
        "        eval_metric='aucpr',\n",
        "        random_state=42\n",
        "    )\n",
        "    \n",
        "    model_temp.fit(X_train_temp, y_train_temp)\n",
        "    \n",
        "    y_pred_temp = model_temp.predict(X_test)\n",
        "    y_pred_proba_temp = model_temp.predict_proba(X_test)[:, 1]\n",
        "    \n",
        "    accuracy_temp = accuracy_score(y_test, y_pred_temp)\n",
        "    precision_temp = precision_score(y_test, y_pred_temp)\n",
        "    recall_temp = recall_score(y_test, y_pred_temp)\n",
        "    f1_temp = f1_score(y_test, y_pred_temp)\n",
        "    roc_auc_temp = roc_auc_score(y_test, y_pred_proba_temp)\n",
        "    auprc_temp = average_precision_score(y_test, y_pred_proba_temp)\n",
        "    \n",
        "    results.append({\n",
        "        'Strategy': strategy_name,\n",
        "        'Ratio': strategy_ratio,\n",
        "        'Training Samples': len(X_train_temp),\n",
        "        'AUPRC': auprc_temp,\n",
        "        'Accuracy': accuracy_temp,\n",
        "        'Precision': precision_temp,\n",
        "        'Recall': recall_temp,\n",
        "        'F1-Score': f1_temp,\n",
        "        'ROC-AUC': roc_auc_temp\n",
        "    })\n",
        "    \n",
        "    print(f\"  Training samples: {len(X_train_temp)}\")\n",
        "    print(f\"  AUPRC: {auprc_temp:.4f}\")\n",
        "    print(f\"  Recall: {recall_temp:.4f}\")\n",
        "    print(f\"  F1-Score: {f1_temp:.4f}\")\n",
        "\n",
        "results_df = pd.DataFrame(results)\n",
        "print(\"\\n\" + \"=\"*60)\n",
        "print(\"Strategy Comparison Complete!\")\n"
      ]
    },
    {
      "cell_type": "code",
      "execution_count": null,
      "metadata": {},
      "outputs": [],
      "source": [
        "print(\"\\nComplete Results Comparison:\")\n",
        "print(\"=\"*80)\n",
        "print(results_df.to_string(index=False))\n",
        "print(\"=\"*80)\n",
        "\n",
        "best_auprc_idx = results_df['AUPRC'].idxmax()\n",
        "best_strategy = results_df.loc[best_auprc_idx]\n",
        "\n",
        "print(f\"\\nBest Strategy (by AUPRC): {best_strategy['Strategy']}\")\n",
        "print(f\"  - AUPRC: {best_strategy['AUPRC']:.4f}\")\n",
        "print(f\"  - Recall: {best_strategy['Recall']:.4f}\")\n",
        "print(f\"  - F1-Score: {best_strategy['F1-Score']:.4f}\")\n"
      ]
    },
    {
      "cell_type": "code",
      "execution_count": null,
      "metadata": {},
      "outputs": [],
      "source": [
        "fig, axes = plt.subplots(2, 2, figsize=(15, 12))\n",
        "\n",
        "metrics = ['AUPRC', 'Recall', 'Precision', 'F1-Score']\n",
        "colors_palette = sns.color_palette(\"husl\", len(results_df))\n",
        "\n",
        "for idx, metric in enumerate(metrics):\n",
        "    ax = axes[idx // 2, idx % 2]\n",
        "    ax.barh(results_df['Strategy'], results_df[metric], color=colors_palette)\n",
        "    ax.set_xlabel(metric)\n",
        "    ax.set_title(f'{metric} by Sampling Strategy')\n",
        "    ax.grid(axis='x', alpha=0.3)\n",
        "    \n",
        "    for i, v in enumerate(results_df[metric]):\n",
        "        ax.text(v + 0.01, i, f'{v:.4f}', va='center')\n",
        "\n",
        "plt.tight_layout()\n",
        "plt.show()\n"
      ]
    },
    {
      "cell_type": "code",
      "execution_count": null,
      "metadata": {},
      "outputs": [],
      "source": [
        "plt.figure(figsize=(12, 6))\n",
        "\n",
        "metrics_to_plot = ['AUPRC', 'Accuracy', 'Precision', 'Recall', 'F1-Score', 'ROC-AUC']\n",
        "x = np.arange(len(metrics_to_plot))\n",
        "width = 0.2\n",
        "\n",
        "for i, (idx, row) in enumerate(results_df.iterrows()):\n",
        "    values = [row[metric] for metric in metrics_to_plot]\n",
        "    plt.bar(x + i * width, values, width, label=row['Strategy'], alpha=0.8)\n",
        "\n",
        "plt.xlabel('Metrics')\n",
        "plt.ylabel('Score')\n",
        "plt.title('Performance Comparison: Different SMOTE Sampling Strategies')\n",
        "plt.xticks(x + width * 1.5, metrics_to_plot, rotation=45)\n",
        "plt.legend(loc='best')\n",
        "plt.grid(axis='y', alpha=0.3)\n",
        "plt.tight_layout()\n",
        "plt.show()\n"
      ]
    },
    {
      "cell_type": "markdown",
      "metadata": {},
      "source": [
        "# SMOTE Variants Comparison\n"
      ]
    },
    {
      "cell_type": "code",
      "execution_count": null,
      "metadata": {},
      "outputs": [],
      "source": [
        "from imblearn.over_sampling import ADASYN, BorderlineSMOTE, SVMSMOTE\n",
        "\n",
        "print(\"Testing different SMOTE variants...\")\n",
        "print(\"=\"*60)\n",
        "\n",
        "smote_variants = {\n",
        "    'SMOTE': SMOTE(random_state=42),\n",
        "    'Borderline-SMOTE': BorderlineSMOTE(random_state=42),\n",
        "    'SVM-SMOTE': SVMSMOTE(random_state=42),\n",
        "    'ADASYN': ADASYN(random_state=42)\n",
        "}\n",
        "\n",
        "variant_results = []\n",
        "\n",
        "for variant_name, smote_variant in smote_variants.items():\n",
        "    print(f\"\\nTesting: {variant_name}\")\n",
        "    \n",
        "    try:\n",
        "        X_train_variant, y_train_variant = smote_variant.fit_resample(X_train, y_train)\n",
        "        \n",
        "        model_variant = xgb.XGBClassifier(\n",
        "            tree_method='hist',\n",
        "            eval_metric='aucpr',\n",
        "            random_state=42\n",
        "        )\n",
        "        \n",
        "        model_variant.fit(X_train_variant, y_train_variant)\n",
        "        \n",
        "        y_pred_variant = model_variant.predict(X_test)\n",
        "        y_pred_proba_variant = model_variant.predict_proba(X_test)[:, 1]\n",
        "        \n",
        "        accuracy_variant = accuracy_score(y_test, y_pred_variant)\n",
        "        precision_variant = precision_score(y_test, y_pred_variant)\n",
        "        recall_variant = recall_score(y_test, y_pred_variant)\n",
        "        f1_variant = f1_score(y_test, y_pred_variant)\n",
        "        roc_auc_variant = roc_auc_score(y_test, y_pred_proba_variant)\n",
        "        auprc_variant = average_precision_score(y_test, y_pred_proba_variant)\n",
        "        \n",
        "        variant_results.append({\n",
        "            'Variant': variant_name,\n",
        "            'Training Samples': len(X_train_variant),\n",
        "            'AUPRC': auprc_variant,\n",
        "            'Accuracy': accuracy_variant,\n",
        "            'Precision': precision_variant,\n",
        "            'Recall': recall_variant,\n",
        "            'F1-Score': f1_variant,\n",
        "            'ROC-AUC': roc_auc_variant\n",
        "        })\n",
        "        \n",
        "        print(f\"  Training samples: {len(X_train_variant)}\")\n",
        "        print(f\"  AUPRC: {auprc_variant:.4f}\")\n",
        "        print(f\"  Recall: {recall_variant:.4f}\")\n",
        "        print(f\"  F1-Score: {f1_variant:.4f}\")\n",
        "        \n",
        "    except Exception as e:\n",
        "        print(f\"  Error: {str(e)}\")\n",
        "        continue\n",
        "\n",
        "variant_results_df = pd.DataFrame(variant_results)\n",
        "print(\"\\n\" + \"=\"*60)\n",
        "print(\"SMOTE Variants Comparison Complete!\")\n"
      ]
    },
    {
      "cell_type": "code",
      "execution_count": null,
      "metadata": {},
      "outputs": [],
      "source": [
        "print(\"\\nSMOTE Variants Results:\")\n",
        "print(\"=\"*80)\n",
        "print(variant_results_df.to_string(index=False))\n",
        "print(\"=\"*80)\n",
        "\n",
        "best_variant_idx = variant_results_df['AUPRC'].idxmax()\n",
        "best_variant = variant_results_df.loc[best_variant_idx]\n",
        "\n",
        "print(f\"\\nBest Variant (by AUPRC): {best_variant['Variant']}\")\n",
        "print(f\"  - AUPRC: {best_variant['AUPRC']:.4f}\")\n",
        "print(f\"  - Recall: {best_variant['Recall']:.4f}\")\n",
        "print(f\"  - F1-Score: {best_variant['F1-Score']:.4f}\")\n"
      ]
    },
    {
      "cell_type": "code",
      "execution_count": null,
      "metadata": {},
      "outputs": [],
      "source": [
        "fig, axes = plt.subplots(1, 2, figsize=(15, 6))\n",
        "\n",
        "# AUPRC comparison\n",
        "colors_palette = sns.color_palette(\"husl\", len(variant_results_df))\n",
        "axes[0].barh(variant_results_df['Variant'], variant_results_df['AUPRC'], color=colors_palette)\n",
        "axes[0].set_xlabel('AUPRC')\n",
        "axes[0].set_title('AUPRC by SMOTE Variant')\n",
        "axes[0].grid(axis='x', alpha=0.3)\n",
        "for i, v in enumerate(variant_results_df['AUPRC']):\n",
        "    axes[0].text(v + 0.005, i, f'{v:.4f}', va='center')\n",
        "\n",
        "# Multi-metric comparison\n",
        "metrics_to_plot = ['AUPRC', 'Recall', 'Precision', 'F1-Score']\n",
        "x = np.arange(len(metrics_to_plot))\n",
        "width = 0.2\n",
        "\n",
        "for i, (idx, row) in enumerate(variant_results_df.iterrows()):\n",
        "    values = [row[metric] for metric in metrics_to_plot]\n",
        "    axes[1].bar(x + i * width, values, width, label=row['Variant'], alpha=0.8)\n",
        "\n",
        "axes[1].set_xlabel('Metrics')\n",
        "axes[1].set_ylabel('Score')\n",
        "axes[1].set_title('Performance Metrics by SMOTE Variant')\n",
        "axes[1].set_xticks(x + width * 1.5)\n",
        "axes[1].set_xticklabels(metrics_to_plot, rotation=45)\n",
        "axes[1].legend(loc='best')\n",
        "axes[1].grid(axis='y', alpha=0.3)\n",
        "\n",
        "plt.tight_layout()\n",
        "plt.show()\n"
      ]
    },
    {
      "cell_type": "markdown",
      "metadata": {},
      "source": [
        "# Summary\n"
      ]
    },
    {
      "cell_type": "code",
      "execution_count": null,
      "metadata": {},
      "outputs": [],
      "source": [
        "print(\"SMOTE XGBoost Model Summary:\")\n",
        "print(\"=\"*50)\n",
        "print(f\"Dataset: Stroke Prediction ({X.shape[0]:,} samples, {X.shape[1]} features)\")\n",
        "print(f\"Class Distribution: {(1-y.mean())*100:.1f}% No Stroke, {y.mean()*100:.1f}% Stroke\")\n",
        "print(f\"Train/Test Split: {len(X_train):,} / {len(X_test):,}\")\n",
        "print(f\"SMOTE Training Set: {len(X_train_smote):,} (added {len(X_train_smote) - len(X_train):,} synthetic samples)\")\n",
        "print()\n",
        "print(\"Performance Metrics (1:1 Balance):\")\n",
        "print(f\"  - AUPRC (PRIMARY): {auprc:.4f}\")\n",
        "print(f\"  - Baseline AUPRC:  {y.mean():.4f}\")\n",
        "print(f\"  - Accuracy:        {accuracy:.4f}\")\n",
        "print(f\"  - Precision:       {precision:.4f}\")\n",
        "print(f\"  - Recall:          {recall:.4f}\")\n",
        "print(f\"  - F1-Score:        {f1:.4f}\")\n",
        "print(f\"  - ROC-AUC:         {roc_auc:.4f}\")\n",
        "print()\n",
        "print(\"Key Insights:\")\n",
        "print(\"  - SMOTE creates synthetic minority samples using k-nearest neighbors\")\n",
        "print(\"  - Applied ONLY to training data to prevent data leakage\")\n",
        "print(\"  - Test set remains unchanged for valid performance evaluation\")\n",
        "print(\"  - Different sampling strategies balance precision-recall tradeoff\")\n"
      ]
    }
  ],
  "metadata": {
    "kernelspec": {
      "display_name": ".venv",
      "language": "python",
      "name": "python3"
    },
    "language_info": {
      "codemirror_mode": {
        "name": "ipython",
        "version": 3
      },
      "file_extension": ".py",
      "mimetype": "text/x-python",
      "name": "python",
      "nbconvert_exporter": "python",
      "pygments_lexer": "ipython3",
      "version": "3.12.2"
    }
  },
  "nbformat": 4,
  "nbformat_minor": 2
}
